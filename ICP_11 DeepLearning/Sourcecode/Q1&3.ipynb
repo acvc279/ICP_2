{
  "nbformat": 4,
  "nbformat_minor": 0,
  "metadata": {
    "colab": {
      "name": "ICP11(1&3).ipynb",
      "provenance": []
    },
    "kernelspec": {
      "name": "python3",
      "display_name": "Python 3"
    },
    "language_info": {
      "name": "python"
    }
  },
  "cells": [
    {
      "cell_type": "code",
      "metadata": {
        "colab": {
          "base_uri": "https://localhost:8080/"
        },
        "id": "L16KpRgRiNx6",
        "outputId": "cee31af2-3c9e-42e4-981d-eec3373493f4"
      },
      "source": [
        "# Simple CNN model for CIFAR-10\n",
        "import numpy\n",
        "from keras.datasets import cifar10\n",
        "from keras.models import Sequential\n",
        "from keras.layers import Dense\n",
        "from keras.layers import Dropout\n",
        "from keras.layers import Flatten\n",
        "from keras.constraints import maxnorm\n",
        "from keras.optimizers import SGD\n",
        "from keras.layers.convolutional import Conv2D\n",
        "from keras.layers.convolutional import MaxPooling2D\n",
        "from keras.utils import np_utils\n",
        "from keras import backend as K\n",
        "\n",
        "# fix random seed for reproducibility\n",
        "seed = 7\n",
        "numpy.random.seed(seed)\n",
        "# load data\n",
        "(X_train, y_train), (X_test, y_test) = cifar10.load_data()\n",
        "# normalize inputs from 0-255 to 0.0-1.0\n",
        "X_train = X_train.astype('float32')\n",
        "X_test = X_test.astype('float32')\n",
        "X_train = X_train / 255.0\n",
        "X_test = X_test / 255.0\n",
        "# one hot encode outputs\n",
        "y_train = np_utils.to_categorical(y_train)\n",
        "y_test = np_utils.to_categorical(y_test)\n",
        "num_classes = y_test.shape[1]\n",
        "# Create the model\n",
        "model = Sequential()\n",
        "model.add(Conv2D(32, (3, 3), input_shape=(32, 32, 3), padding='same', activation='relu', kernel_constraint=maxnorm(3)))\n",
        "model.add(Dropout(0.2))\n",
        "model.add(Conv2D(32, (3, 3), activation='relu', padding='same', kernel_constraint=maxnorm(3)))\n",
        "model.add(MaxPooling2D(pool_size=(2, 2)))\n",
        "model.add(Flatten())\n",
        "model.add(Dense(512, activation='relu', kernel_constraint=maxnorm(3)))\n",
        "model.add(Dropout(0.5))\n",
        "model.add(Dense(num_classes, activation='softmax'))\n",
        "# Compile model\n",
        "epochs = 25\n",
        "lrate = 0.01\n",
        "decay = lrate/epochs\n",
        "sgd = SGD(lr=lrate, momentum=0.9, decay=decay, nesterov=False)\n",
        "model.compile(loss='categorical_crossentropy', optimizer=sgd, metrics=['accuracy'])\n",
        "print(model.summary())\n",
        "# Fit the model\n",
        "history=model.fit(X_train, y_train, validation_data=(X_test, y_test), epochs=epochs, batch_size=32)\n",
        "# Final evaluation of the model\n",
        "scores = model.evaluate(X_test, y_test, verbose=0)\n",
        "print(\"Accuracy: %.2f%%\" % (scores[1]*100))"
      ],
      "execution_count": null,
      "outputs": [
        {
          "output_type": "stream",
          "text": [
            "Model: \"sequential_8\"\n",
            "_________________________________________________________________\n",
            "Layer (type)                 Output Shape              Param #   \n",
            "=================================================================\n",
            "conv2d_20 (Conv2D)           (None, 32, 32, 32)        896       \n",
            "_________________________________________________________________\n",
            "dropout_20 (Dropout)         (None, 32, 32, 32)        0         \n",
            "_________________________________________________________________\n",
            "conv2d_21 (Conv2D)           (None, 32, 32, 32)        9248      \n",
            "_________________________________________________________________\n",
            "max_pooling2d_10 (MaxPooling (None, 16, 16, 32)        0         \n",
            "_________________________________________________________________\n",
            "flatten_8 (Flatten)          (None, 8192)              0         \n",
            "_________________________________________________________________\n",
            "dense_17 (Dense)             (None, 512)               4194816   \n",
            "_________________________________________________________________\n",
            "dropout_21 (Dropout)         (None, 512)               0         \n",
            "_________________________________________________________________\n",
            "dense_18 (Dense)             (None, 10)                5130      \n",
            "=================================================================\n",
            "Total params: 4,210,090\n",
            "Trainable params: 4,210,090\n",
            "Non-trainable params: 0\n",
            "_________________________________________________________________\n",
            "None\n",
            "Epoch 1/25\n",
            "1563/1563 [==============================] - 211s 134ms/step - loss: 1.9145 - accuracy: 0.3027 - val_loss: 1.4752 - val_accuracy: 0.4763\n",
            "Epoch 2/25\n",
            "1563/1563 [==============================] - 209s 134ms/step - loss: 1.3773 - accuracy: 0.5057 - val_loss: 1.1953 - val_accuracy: 0.5726\n",
            "Epoch 3/25\n",
            "1563/1563 [==============================] - 209s 134ms/step - loss: 1.1791 - accuracy: 0.5772 - val_loss: 1.1007 - val_accuracy: 0.6096\n",
            "Epoch 4/25\n",
            "1563/1563 [==============================] - 208s 133ms/step - loss: 1.0604 - accuracy: 0.6228 - val_loss: 1.0340 - val_accuracy: 0.6320\n",
            "Epoch 5/25\n",
            "1563/1563 [==============================] - 208s 133ms/step - loss: 0.9545 - accuracy: 0.6596 - val_loss: 0.9808 - val_accuracy: 0.6488\n",
            "Epoch 6/25\n",
            "1563/1563 [==============================] - 209s 134ms/step - loss: 0.8791 - accuracy: 0.6863 - val_loss: 0.9715 - val_accuracy: 0.6616\n",
            "Epoch 7/25\n",
            "1563/1563 [==============================] - 209s 134ms/step - loss: 0.8102 - accuracy: 0.7114 - val_loss: 0.9370 - val_accuracy: 0.6774\n",
            "Epoch 8/25\n",
            "1563/1563 [==============================] - 209s 133ms/step - loss: 0.7377 - accuracy: 0.7394 - val_loss: 0.9291 - val_accuracy: 0.6834\n",
            "Epoch 9/25\n",
            "1563/1563 [==============================] - 209s 133ms/step - loss: 0.6827 - accuracy: 0.7587 - val_loss: 0.9229 - val_accuracy: 0.6850\n",
            "Epoch 10/25\n",
            "1563/1563 [==============================] - 209s 134ms/step - loss: 0.6380 - accuracy: 0.7755 - val_loss: 0.9230 - val_accuracy: 0.6872\n",
            "Epoch 11/25\n",
            "1563/1563 [==============================] - 209s 134ms/step - loss: 0.5959 - accuracy: 0.7894 - val_loss: 0.9156 - val_accuracy: 0.6934\n",
            "Epoch 12/25\n",
            "1563/1563 [==============================] - 208s 133ms/step - loss: 0.5397 - accuracy: 0.8097 - val_loss: 0.9209 - val_accuracy: 0.6960\n",
            "Epoch 13/25\n",
            "1563/1563 [==============================] - 208s 133ms/step - loss: 0.5121 - accuracy: 0.8200 - val_loss: 0.9427 - val_accuracy: 0.6928\n",
            "Epoch 14/25\n",
            "1563/1563 [==============================] - 206s 132ms/step - loss: 0.4923 - accuracy: 0.8287 - val_loss: 0.9392 - val_accuracy: 0.7020\n",
            "Epoch 15/25\n",
            "1563/1563 [==============================] - 204s 131ms/step - loss: 0.4510 - accuracy: 0.8422 - val_loss: 0.9512 - val_accuracy: 0.7020\n",
            "Epoch 16/25\n",
            "1563/1563 [==============================] - 204s 131ms/step - loss: 0.4266 - accuracy: 0.8484 - val_loss: 0.9701 - val_accuracy: 0.6964\n",
            "Epoch 17/25\n",
            "1563/1563 [==============================] - 204s 131ms/step - loss: 0.3956 - accuracy: 0.8608 - val_loss: 0.9736 - val_accuracy: 0.7011\n",
            "Epoch 18/25\n",
            "1563/1563 [==============================] - 204s 131ms/step - loss: 0.3722 - accuracy: 0.8705 - val_loss: 0.9677 - val_accuracy: 0.7036\n",
            "Epoch 19/25\n",
            "1563/1563 [==============================] - 203s 130ms/step - loss: 0.3553 - accuracy: 0.8745 - val_loss: 1.0007 - val_accuracy: 0.7031\n",
            "Epoch 20/25\n",
            "1563/1563 [==============================] - 203s 130ms/step - loss: 0.3385 - accuracy: 0.8815 - val_loss: 1.0067 - val_accuracy: 0.7014\n",
            "Epoch 21/25\n",
            "1563/1563 [==============================] - 204s 130ms/step - loss: 0.3170 - accuracy: 0.8907 - val_loss: 1.0119 - val_accuracy: 0.7020\n",
            "Epoch 22/25\n",
            "1563/1563 [==============================] - 203s 130ms/step - loss: 0.2986 - accuracy: 0.8948 - val_loss: 1.0271 - val_accuracy: 0.6993\n",
            "Epoch 23/25\n",
            "1563/1563 [==============================] - 204s 130ms/step - loss: 0.2809 - accuracy: 0.9011 - val_loss: 1.0430 - val_accuracy: 0.7020\n",
            "Epoch 24/25\n",
            "1563/1563 [==============================] - 204s 131ms/step - loss: 0.2766 - accuracy: 0.9015 - val_loss: 1.0373 - val_accuracy: 0.7037\n",
            "Epoch 25/25\n",
            "1563/1563 [==============================] - 204s 131ms/step - loss: 0.2595 - accuracy: 0.9107 - val_loss: 1.0627 - val_accuracy: 0.7041\n",
            "Accuracy: 70.41%\n"
          ],
          "name": "stdout"
        }
      ]
    },
    {
      "cell_type": "code",
      "metadata": {
        "colab": {
          "base_uri": "https://localhost:8080/"
        },
        "id": "JCdqUVAT-73F",
        "outputId": "fd3a665b-cbaa-40a7-98af-095cdf2e6111"
      },
      "source": [
        "# Create the model\n",
        "model = Sequential()\n",
        "model.add(Conv2D(32, (3, 3), input_shape=(32, 32, 3), padding='same', activation='relu', kernel_constraint=maxnorm(3)))\n",
        "model.add(Dropout(0.2))\n",
        "model.add(Conv2D(32, (3, 3), activation='relu', padding='same', kernel_constraint=maxnorm(3)))\n",
        "model.add(MaxPooling2D(pool_size=(2, 2)))\n",
        "model.add(Conv2D(64, (3, 3), activation='relu', padding='same', kernel_constraint=maxnorm(3)))\n",
        "model.add(Dropout(0.2))\n",
        "model.add(Conv2D(64, (3, 3), activation='relu', padding='same', kernel_constraint=maxnorm(3)))\n",
        "model.add(MaxPooling2D(pool_size=(2, 2)))\n",
        "model.add(Conv2D(128, (3, 3), activation='relu', padding='same', kernel_constraint=maxnorm(3)))\n",
        "model.add(Dropout(0.2))\n",
        "model.add(Conv2D(128, (3, 3), activation='relu', padding='same', kernel_constraint=maxnorm(3)))\n",
        "model.add(MaxPooling2D(pool_size=(2, 2)))\n",
        "model.add(Flatten())\n",
        "model.add(Dropout(0.2))\n",
        "model.add(Dense(1024, activation='relu', kernel_constraint=maxnorm(3)))\n",
        "model.add(Dropout(0.2))\n",
        "model.add(Dense(512, activation='relu', kernel_constraint=maxnorm(3)))\n",
        "model.add(Dropout(0.2))\n",
        "model.add(Dense(num_classes, activation='softmax'))\n",
        "# Compile model\n",
        "epochs = 25\n",
        "lrate = 0.01\n",
        "decay = lrate/epochs\n",
        "sgd = SGD(lr=lrate, momentum=0.9, decay=decay, nesterov=False)\n",
        "model.compile(loss='categorical_crossentropy', optimizer=sgd, metrics=['accuracy'])\n",
        "print(model.summary())\n",
        "# Fit the model\n",
        "history=model.fit(X_train, y_train, validation_data=(X_test, y_test), epochs=epochs, batch_size=32)\n",
        "# Final evaluation of the model\n",
        "scores = model.evaluate(X_test, y_test, verbose=0)\n",
        "print(\"Accuracy: %.2f%%\" % (scores[1]*100))"
      ],
      "execution_count": 17,
      "outputs": [
        {
          "output_type": "stream",
          "text": [
            "Model: \"sequential_9\"\n",
            "_________________________________________________________________\n",
            "Layer (type)                 Output Shape              Param #   \n",
            "=================================================================\n",
            "conv2d_22 (Conv2D)           (None, 32, 32, 32)        896       \n",
            "_________________________________________________________________\n",
            "dropout_22 (Dropout)         (None, 32, 32, 32)        0         \n",
            "_________________________________________________________________\n",
            "conv2d_23 (Conv2D)           (None, 32, 32, 32)        9248      \n",
            "_________________________________________________________________\n",
            "max_pooling2d_11 (MaxPooling (None, 16, 16, 32)        0         \n",
            "_________________________________________________________________\n",
            "conv2d_24 (Conv2D)           (None, 16, 16, 64)        18496     \n",
            "_________________________________________________________________\n",
            "dropout_23 (Dropout)         (None, 16, 16, 64)        0         \n",
            "_________________________________________________________________\n",
            "conv2d_25 (Conv2D)           (None, 16, 16, 64)        36928     \n",
            "_________________________________________________________________\n",
            "max_pooling2d_12 (MaxPooling (None, 8, 8, 64)          0         \n",
            "_________________________________________________________________\n",
            "conv2d_26 (Conv2D)           (None, 8, 8, 128)         73856     \n",
            "_________________________________________________________________\n",
            "dropout_24 (Dropout)         (None, 8, 8, 128)         0         \n",
            "_________________________________________________________________\n",
            "conv2d_27 (Conv2D)           (None, 8, 8, 128)         147584    \n",
            "_________________________________________________________________\n",
            "max_pooling2d_13 (MaxPooling (None, 4, 4, 128)         0         \n",
            "_________________________________________________________________\n",
            "flatten_9 (Flatten)          (None, 2048)              0         \n",
            "_________________________________________________________________\n",
            "dropout_25 (Dropout)         (None, 2048)              0         \n",
            "_________________________________________________________________\n",
            "dense_19 (Dense)             (None, 1024)              2098176   \n",
            "_________________________________________________________________\n",
            "dropout_26 (Dropout)         (None, 1024)              0         \n",
            "_________________________________________________________________\n",
            "dense_20 (Dense)             (None, 512)               524800    \n",
            "_________________________________________________________________\n",
            "dropout_27 (Dropout)         (None, 512)               0         \n",
            "_________________________________________________________________\n",
            "dense_21 (Dense)             (None, 10)                5130      \n",
            "=================================================================\n",
            "Total params: 2,915,114\n",
            "Trainable params: 2,915,114\n",
            "Non-trainable params: 0\n",
            "_________________________________________________________________\n",
            "None\n",
            "Epoch 1/25\n",
            "1563/1563 [==============================] - 398s 254ms/step - loss: 2.0685 - accuracy: 0.2286 - val_loss: 1.6245 - val_accuracy: 0.4247\n",
            "Epoch 2/25\n",
            "1563/1563 [==============================] - 397s 254ms/step - loss: 1.4905 - accuracy: 0.4544 - val_loss: 1.2676 - val_accuracy: 0.5414\n",
            "Epoch 3/25\n",
            "1563/1563 [==============================] - 397s 254ms/step - loss: 1.2791 - accuracy: 0.5409 - val_loss: 1.1910 - val_accuracy: 0.5661\n",
            "Epoch 4/25\n",
            "1563/1563 [==============================] - 396s 253ms/step - loss: 1.1376 - accuracy: 0.5923 - val_loss: 1.0187 - val_accuracy: 0.6377\n",
            "Epoch 5/25\n",
            "1563/1563 [==============================] - 398s 254ms/step - loss: 1.0297 - accuracy: 0.6347 - val_loss: 0.9496 - val_accuracy: 0.6618\n",
            "Epoch 6/25\n",
            "1563/1563 [==============================] - 402s 257ms/step - loss: 0.9277 - accuracy: 0.6679 - val_loss: 0.8968 - val_accuracy: 0.6825\n",
            "Epoch 7/25\n",
            "1563/1563 [==============================] - 405s 259ms/step - loss: 0.8549 - accuracy: 0.6977 - val_loss: 0.8358 - val_accuracy: 0.7043\n",
            "Epoch 8/25\n",
            "1563/1563 [==============================] - 401s 257ms/step - loss: 0.7855 - accuracy: 0.7222 - val_loss: 0.8055 - val_accuracy: 0.7178\n",
            "Epoch 9/25\n",
            "1563/1563 [==============================] - 405s 259ms/step - loss: 0.7390 - accuracy: 0.7365 - val_loss: 0.7596 - val_accuracy: 0.7331\n",
            "Epoch 10/25\n",
            "1563/1563 [==============================] - 406s 260ms/step - loss: 0.6927 - accuracy: 0.7539 - val_loss: 0.7351 - val_accuracy: 0.7477\n",
            "Epoch 11/25\n",
            "1563/1563 [==============================] - 406s 260ms/step - loss: 0.6496 - accuracy: 0.7697 - val_loss: 0.7195 - val_accuracy: 0.7494\n",
            "Epoch 12/25\n",
            "1563/1563 [==============================] - 406s 260ms/step - loss: 0.6241 - accuracy: 0.7769 - val_loss: 0.7148 - val_accuracy: 0.7516\n",
            "Epoch 13/25\n",
            "1563/1563 [==============================] - 406s 260ms/step - loss: 0.5977 - accuracy: 0.7913 - val_loss: 0.6920 - val_accuracy: 0.7623\n",
            "Epoch 14/25\n",
            "1563/1563 [==============================] - 405s 259ms/step - loss: 0.5624 - accuracy: 0.8014 - val_loss: 0.6780 - val_accuracy: 0.7675\n",
            "Epoch 15/25\n",
            "1563/1563 [==============================] - 406s 260ms/step - loss: 0.5443 - accuracy: 0.8048 - val_loss: 0.6698 - val_accuracy: 0.7684\n",
            "Epoch 16/25\n",
            "1563/1563 [==============================] - 406s 260ms/step - loss: 0.5198 - accuracy: 0.8159 - val_loss: 0.6585 - val_accuracy: 0.7748\n",
            "Epoch 17/25\n",
            "1563/1563 [==============================] - 406s 259ms/step - loss: 0.4984 - accuracy: 0.8231 - val_loss: 0.6576 - val_accuracy: 0.7764\n",
            "Epoch 18/25\n",
            "1563/1563 [==============================] - 408s 261ms/step - loss: 0.4818 - accuracy: 0.8301 - val_loss: 0.6570 - val_accuracy: 0.7780\n",
            "Epoch 19/25\n",
            "1563/1563 [==============================] - 407s 260ms/step - loss: 0.4576 - accuracy: 0.8379 - val_loss: 0.6503 - val_accuracy: 0.7787\n",
            "Epoch 20/25\n",
            "1563/1563 [==============================] - 407s 260ms/step - loss: 0.4401 - accuracy: 0.8441 - val_loss: 0.6425 - val_accuracy: 0.7819\n",
            "Epoch 21/25\n",
            "1563/1563 [==============================] - 408s 261ms/step - loss: 0.4223 - accuracy: 0.8486 - val_loss: 0.6433 - val_accuracy: 0.7833\n",
            "Epoch 22/25\n",
            "1563/1563 [==============================] - 408s 261ms/step - loss: 0.4134 - accuracy: 0.8535 - val_loss: 0.6622 - val_accuracy: 0.7776\n",
            "Epoch 23/25\n",
            "1563/1563 [==============================] - 408s 261ms/step - loss: 0.3910 - accuracy: 0.8610 - val_loss: 0.6416 - val_accuracy: 0.7852\n",
            "Epoch 24/25\n",
            "1563/1563 [==============================] - 406s 260ms/step - loss: 0.3813 - accuracy: 0.8618 - val_loss: 0.6439 - val_accuracy: 0.7889\n",
            "Epoch 25/25\n",
            "1563/1563 [==============================] - 405s 259ms/step - loss: 0.3740 - accuracy: 0.8651 - val_loss: 0.6428 - val_accuracy: 0.7902\n",
            "Accuracy: 79.02%\n"
          ],
          "name": "stdout"
        }
      ]
    },
    {
      "cell_type": "code",
      "metadata": {
        "id": "4qG9O2IGaxVx"
      },
      "source": [
        "model.save('model.h5')"
      ],
      "execution_count": 19,
      "outputs": []
    },
    {
      "cell_type": "code",
      "metadata": {
        "colab": {
          "base_uri": "https://localhost:8080/",
          "height": 295
        },
        "id": "W9kq-PjnbF3a",
        "outputId": "35d01abe-cefe-4276-936c-8a6e0a965830"
      },
      "source": [
        "#Q3\n",
        "import matplotlib.pyplot as plt\n",
        "#Accuraccy model visual graph\n",
        "plt.plot(history.history['accuracy'])\n",
        "plt.plot(history.history['val_accuracy'])\n",
        "plt.title('MODEL ACCURACY')\n",
        "plt.xlabel('epoch')\n",
        "plt.ylabel('accuracy')\n",
        "plt.legend(['train', 'test'])\n",
        "plt.show()"
      ],
      "execution_count": 26,
      "outputs": [
        {
          "output_type": "display_data",
          "data": {
            "image/png": "[encoded data removed]",
            "text/plain": [
              "<Figure size 432x288 with 1 Axes>"
            ]
          },
          "metadata": {
            "tags": [],
            "needs_background": "light"
          }
        }
      ]
    },
    {
      "cell_type": "code",
      "metadata": {
        "colab": {
          "base_uri": "https://localhost:8080/",
          "height": 295
        },
        "id": "hlbPL714blTi",
        "outputId": "16302790-a998-43cc-fe09-ca730699396a"
      },
      "source": [
        "#Loss model visual graph\n",
        "plt.plot(history.history['loss'])\n",
        "plt.plot(history.history['val_loss'])\n",
        "plt.title('MODEL LOSS')\n",
        "plt.xlabel('epoch')\n",
        "plt.ylabel('loss')\n",
        "plt.legend(['train', 'test'], loc='upper right')\n",
        "plt.show()"
      ],
      "execution_count": 25,
      "outputs": [
        {
          "output_type": "display_data",
          "data": {
            "image/png": "[encoded data removed]",
            "text/plain": [
              "<Figure size 432x288 with 1 Axes>"
            ]
          },
          "metadata": {
            "tags": [],
            "needs_background": "light"
          }
        }
      ]
    }
  ]
}