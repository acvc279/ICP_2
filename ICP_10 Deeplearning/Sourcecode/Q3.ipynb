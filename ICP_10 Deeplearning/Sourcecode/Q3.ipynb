{
  "nbformat": 4,
  "nbformat_minor": 0,
  "metadata": {
    "colab": {
      "name": "Untitled3.ipynb",
      "provenance": []
    },
    "kernelspec": {
      "name": "python3",
      "display_name": "Python 3"
    },
    "language_info": {
      "name": "python"
    }
  },
  "cells": [
    {
      "cell_type": "code",
      "metadata": {
        "id": "J2qWTcLoZw64"
      },
      "source": [
        "#Importing the libraries\n",
        "from keras.models import Sequential\n",
        "from keras import layers\n",
        "from keras.preprocessing.text import Tokenizer\n",
        "import pandas as pd\n",
        "from sklearn import preprocessing\n",
        "from sklearn.model_selection import train_test_split\n",
        "from keras.preprocessing.sequence import pad_sequences\n",
        "from keras.layers import Embedding, Flatten\n",
        "from sklearn.datasets import fetch_20newsgroups\n",
        "import numpy as np\n"
      ],
      "execution_count": 2,
      "outputs": []
    },
    {
      "cell_type": "code",
      "metadata": {
        "colab": {
          "base_uri": "https://localhost:8080/"
        },
        "id": "p2ctJxNNaTh7",
        "outputId": "53409efc-725c-4685-f187-2041aed540ee"
      },
      "source": [
        "#load the data\n",
        "twenty_train = fetch_20newsgroups(subset='train', shuffle=True)\n",
        "#read the data\n",
        "sentences= twenty_train.data\n",
        "y=twenty_train.target"
      ],
      "execution_count": 3,
      "outputs": [
        {
          "output_type": "stream",
          "text": [
            "Downloading 20news dataset. This may take a few minutes.\n",
            "Downloading dataset from https://ndownloader.figshare.com/files/5975967 (14 MB)\n"
          ],
          "name": "stderr"
        }
      ]
    },
    {
      "cell_type": "code",
      "metadata": {
        "id": "4UHZqfUva8JB"
      },
      "source": [
        "#tokenizing the data\n",
        "tokenizer = Tokenizer(num_words=2000)\n",
        "tokenizer.fit_on_texts(sentences)\n",
        "#embadding layers\n",
        "max_review_len = max([len(s.split()) for s in sentences])\n",
        "vocab_size = len(tokenizer.word_index)+1\n",
        "X_train, X_test, y_train, y_test = train_test_split(sentences, y, test_size=0.25, random_state=1000)\n",
        "X_train_tokens = tokenizer.texts_to_sequences(X_train)\n",
        "X_test_tokens = tokenizer.texts_to_sequences(X_test)\n",
        "padded_train = pad_sequences(X_train_tokens,maxlen=max_review_len)\n",
        "paded_test = pad_sequences(X_test_tokens,maxlen=max_review_len)"
      ],
      "execution_count": 4,
      "outputs": []
    },
    {
      "cell_type": "code",
      "metadata": {
        "colab": {
          "base_uri": "https://localhost:8080/"
        },
        "id": "2oN6k_xEbuLN",
        "outputId": "27dba56f-5f6b-4b72-97f3-71ad58a1fa87"
      },
      "source": [
        "#building a model\n",
        "model = Sequential()\n",
        "model.add(Embedding(vocab_size, 50, input_length=max_review_len))\n",
        "model.add(Flatten())\n",
        "model.add(layers.Dense(300, activation='relu'))\n",
        "model.add(layers.Dense(1, activation='softmax')) \n",
        "model.compile(loss='binary_crossentropy',optimizer='adam',metrics=['acc'])\n",
        "history=model.fit(padded_train,y_train, epochs=5, verbose=True, validation_data=(paded_test,y_test), batch_size=256)"
      ],
      "execution_count": 5,
      "outputs": [
        {
          "output_type": "stream",
          "text": [
            "Epoch 1/5\n",
            "34/34 [==============================] - 233s 7s/step - loss: -21052.3397 - acc: 0.0487 - val_loss: -177321.8594 - val_acc: 0.0548\n",
            "Epoch 2/5\n",
            "34/34 [==============================] - 215s 6s/step - loss: -338257.7250 - acc: 0.0510 - val_loss: -1138289.8750 - val_acc: 0.0548\n",
            "Epoch 3/5\n",
            "34/34 [==============================] - 222s 7s/step - loss: -1712618.6786 - acc: 0.0514 - val_loss: -4029870.7500 - val_acc: 0.0548\n",
            "Epoch 4/5\n",
            "34/34 [==============================] - 215s 6s/step - loss: -5363065.8357 - acc: 0.0472 - val_loss: -10305519.0000 - val_acc: 0.0548\n",
            "Epoch 5/5\n",
            "34/34 [==============================] - 217s 6s/step - loss: -13001769.9429 - acc: 0.0502 - val_loss: -21603424.0000 - val_acc: 0.0548\n"
          ],
          "name": "stdout"
        }
      ]
    }
  ]
}