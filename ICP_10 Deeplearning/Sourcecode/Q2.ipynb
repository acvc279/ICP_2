{
  "nbformat": 4,
  "nbformat_minor": 0,
  "metadata": {
    "colab": {
      "name": "Untitled2.ipynb",
      "provenance": []
    },
    "kernelspec": {
      "name": "python3",
      "display_name": "Python 3"
    },
    "language_info": {
      "name": "python"
    }
  },
  "cells": [
    {
      "cell_type": "code",
      "metadata": {
        "id": "K_za26JMStCY"
      },
      "source": [
        "#importing libraries\n",
        "from keras.models import Sequential\n",
        "from keras import layers\n",
        "from keras.preprocessing.text import Tokenizer\n",
        "import pandas as pd\n",
        "from sklearn import preprocessing\n",
        "from sklearn.model_selection import train_test_split\n",
        "from keras.preprocessing.sequence import pad_sequences\n",
        "from keras.layers import Embedding, Flatten\n"
      ],
      "execution_count": 13,
      "outputs": []
    },
    {
      "cell_type": "code",
      "metadata": {
        "colab": {
          "base_uri": "https://localhost:8080/"
        },
        "id": "ufjE1l1UXCWw",
        "outputId": "3a1f5816-33f5-4cf3-8013-629b1b28ac86"
      },
      "source": [
        "#load the data\n",
        "df = pd.read_csv('imdb_master.csv',encoding='latin-1')\n",
        "print(df.head())\n",
        "#removing Unwanted labelfrom dataset\n",
        "df = df[df['label']!='unsup'] \n",
        "#read the data\n",
        "sentences = df['review'].values\n",
        "y = df['label'].values"
      ],
      "execution_count": 14,
      "outputs": [
        {
          "output_type": "stream",
          "text": [
            "   Unnamed: 0  type  ... label         file\n",
            "0           0  test  ...   neg      0_2.txt\n",
            "1           1  test  ...   neg  10000_4.txt\n",
            "2           2  test  ...   neg  10001_1.txt\n",
            "3           3  test  ...   neg  10002_3.txt\n",
            "4           4  test  ...   neg  10003_3.txt\n",
            "\n",
            "[5 rows x 5 columns]\n"
          ],
          "name": "stdout"
        }
      ]
    },
    {
      "cell_type": "code",
      "metadata": {
        "id": "PXmamZYqXDdf"
      },
      "source": [
        "#tokenizing data\n",
        "tokenizer = Tokenizer(num_words=2000)\n",
        "tokenizer.fit_on_texts(sentences)\n",
        "#target encoding\n",
        "le = preprocessing.LabelEncoder()\n",
        "y = le.fit_transform(y)\n"
      ],
      "execution_count": 15,
      "outputs": []
    },
    {
      "cell_type": "code",
      "metadata": {
        "id": "ZSF1npqAXlwq"
      },
      "source": [
        "#Embadding the data\n",
        "max_review_len = max([len(s.split()) for s in sentences])\n",
        "vocab_size = len(tokenizer.word_index)+1\n",
        "X_train, X_test, y_train, y_test = train_test_split(sentences, y, test_size=0.25, random_state=1000)\n",
        "X_train_tokens = tokenizer.texts_to_sequences(X_train)\n",
        "X_test_tokens = tokenizer.texts_to_sequences(X_test)\n",
        "padded_train = pad_sequences(X_train_tokens,maxlen=max_review_len)\n",
        "paded_test = pad_sequences(X_test_tokens,maxlen=max_review_len)"
      ],
      "execution_count": 16,
      "outputs": []
    },
    {
      "cell_type": "code",
      "metadata": {
        "colab": {
          "base_uri": "https://localhost:8080/"
        },
        "id": "W60kOiCQX2KC",
        "outputId": "97f445d8-2cf3-4326-d4b5-3bf0e5579aca"
      },
      "source": [
        "#building the model\n",
        "model = Sequential()\n",
        "model.add(Embedding(vocab_size, 50, input_length=max_review_len))\n",
        "model.add(Flatten())\n",
        "model.add(layers.Dense(300, activation='relu'))\n",
        "model.add(layers.Dense(1, activation='softmax')) #changing number of neuron to 2 as we have only two labels Pos and Neg\n",
        "model.compile(loss='binary_crossentropy',optimizer='adam',metrics=['acc'])\n",
        "history=model.fit(padded_train,y_train, epochs=5, verbose=True, validation_data=(paded_test,y_test), batch_size=256)"
      ],
      "execution_count": 19,
      "outputs": [
        {
          "output_type": "stream",
          "text": [
            "Epoch 1/5\n",
            "147/147 [==============================] - 199s 1s/step - loss: 1.0003 - acc: 0.4991 - val_loss: 0.3134 - val_acc: 0.4978\n",
            "Epoch 2/5\n",
            "147/147 [==============================] - 198s 1s/step - loss: 0.2549 - acc: 0.4980 - val_loss: 0.2859 - val_acc: 0.4978\n",
            "Epoch 3/5\n",
            "147/147 [==============================] - 197s 1s/step - loss: 0.1756 - acc: 0.5042 - val_loss: 0.3072 - val_acc: 0.4978\n",
            "Epoch 4/5\n",
            "147/147 [==============================] - 198s 1s/step - loss: 0.1060 - acc: 0.5032 - val_loss: 0.3453 - val_acc: 0.4978\n",
            "Epoch 5/5\n",
            "147/147 [==============================] - 197s 1s/step - loss: 0.0480 - acc: 0.4963 - val_loss: 0.3907 - val_acc: 0.4978\n"
          ],
          "name": "stdout"
        }
      ]
    }
  ]
}