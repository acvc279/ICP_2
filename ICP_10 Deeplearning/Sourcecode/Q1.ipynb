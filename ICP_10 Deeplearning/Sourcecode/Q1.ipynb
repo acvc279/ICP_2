{
  "nbformat": 4,
  "nbformat_minor": 0,
  "metadata": {
    "colab": {
      "name": "icp_10.ipynb",
      "provenance": []
    },
    "kernelspec": {
      "name": "python3",
      "display_name": "Python 3"
    },
    "language_info": {
      "name": "python"
    }
  },
  "cells": [
    {
      "cell_type": "code",
      "metadata": {
        "id": "WVOaKovUgDRP"
      },
      "source": [
        "#Importing libraries\n",
        "from keras.models import Sequential\n",
        "from keras import layers\n",
        "from keras.preprocessing.text import Tokenizer\n",
        "import pandas as pd\n",
        "from sklearn import preprocessing\n",
        "from sklearn.model_selection import train_test_split\n",
        "import numpy as np"
      ],
      "execution_count": 47,
      "outputs": []
    },
    {
      "cell_type": "code",
      "metadata": {
        "colab": {
          "base_uri": "https://localhost:8080/"
        },
        "id": "K4-l_YQjhFUU",
        "outputId": "94482910-9325-452b-b55a-5b7b5d99e5cc"
      },
      "source": [
        "#load the data\n",
        "df = pd.read_csv('imdb_master.csv',encoding='latin-1')\n",
        "print(df.head())\n",
        "#Remove the unwanted label from data\n",
        "df = df[df['label']!='unsup']\n",
        "#read the data\n",
        "sentences = df['review'].values\n",
        "y = df['label'].values"
      ],
      "execution_count": 48,
      "outputs": [
        {
          "output_type": "stream",
          "text": [
            "   Unnamed: 0  type  ... label         file\n",
            "0           0  test  ...   neg      0_2.txt\n",
            "1           1  test  ...   neg  10000_4.txt\n",
            "2           2  test  ...   neg  10001_1.txt\n",
            "3           3  test  ...   neg  10002_3.txt\n",
            "4           4  test  ...   neg  10003_3.txt\n",
            "\n",
            "[5 rows x 5 columns]\n"
          ],
          "name": "stdout"
        }
      ]
    },
    {
      "cell_type": "code",
      "metadata": {
        "id": "C4sguBIIh6Lp"
      },
      "source": [
        "#tokenizing data\n",
        "tokenizer = Tokenizer(num_words=2000)\n",
        "tokenizer.fit_on_texts(sentences)\n",
        "#getting the vocabulary of data\n",
        "sentences = tokenizer.texts_to_matrix(sentences)\n",
        "#target encoding\n",
        "le = preprocessing.LabelEncoder()\n",
        "y = le.fit_transform(y)\n",
        "#Split test and train\n",
        "X_train, X_test, y_train, y_test = train_test_split(sentences, y, test_size=0.25, random_state=1000)\n",
        "# Number of features\n",
        "# print(input_dim)"
      ],
      "execution_count": 49,
      "outputs": []
    },
    {
      "cell_type": "code",
      "metadata": {
        "colab": {
          "base_uri": "https://localhost:8080/"
        },
        "id": "ztVQqALXRsfU",
        "outputId": "cc35f3f4-8e83-4228-ab20-b2e611ab908d"
      },
      "source": [
        "# for finding input_dim\n",
        "np.prod(X_train.shape[1:])"
      ],
      "execution_count": 44,
      "outputs": [
        {
          "output_type": "execute_result",
          "data": {
            "text/plain": [
              "2000"
            ]
          },
          "metadata": {
            "tags": []
          },
          "execution_count": 44
        }
      ]
    },
    {
      "cell_type": "code",
      "metadata": {
        "colab": {
          "base_uri": "https://localhost:8080/"
        },
        "id": "mXWBsGlhwjID",
        "outputId": "2fdfed16-d79e-4002-ad83-20228e2b63de"
      },
      "source": [
        "#building the model\n",
        "model = Sequential()\n",
        "#model.add(layers.Dense(300,input_dim=input_dim, activation='relu'))#error 1: input_dim not decleared\n",
        "model.add(layers.Dense(300,input_dim=2000, activation='relu'))\n",
        "model.add(layers.Dense(2, activation='softmax'))#error2 softmax will be recomended for classification error 3 we have two labels so changing neuron no. to 2\n",
        "model.compile(loss='sparse_categorical_crossentropy',optimizer='adam',metrics=['acc'])\n",
        "history=model.fit(X_train,y_train, epochs=5, verbose=True, validation_data=(X_test,y_test), batch_size=256)"
      ],
      "execution_count": 50,
      "outputs": [
        {
          "output_type": "stream",
          "text": [
            "Epoch 1/5\n",
            "147/147 [==============================] - 4s 23ms/step - loss: 0.4319 - acc: 0.7913 - val_loss: 0.2983 - val_acc: 0.8750\n",
            "Epoch 2/5\n",
            "147/147 [==============================] - 3s 22ms/step - loss: 0.2439 - acc: 0.9007 - val_loss: 0.2872 - val_acc: 0.8811\n",
            "Epoch 3/5\n",
            "147/147 [==============================] - 3s 22ms/step - loss: 0.1950 - acc: 0.9253 - val_loss: 0.2955 - val_acc: 0.8779\n",
            "Epoch 4/5\n",
            "147/147 [==============================] - 3s 22ms/step - loss: 0.1293 - acc: 0.9585 - val_loss: 0.3044 - val_acc: 0.8779\n",
            "Epoch 5/5\n",
            "147/147 [==============================] - 3s 22ms/step - loss: 0.0685 - acc: 0.9856 - val_loss: 0.3324 - val_acc: 0.8773\n"
          ],
          "name": "stdout"
        }
      ]
    }
  ]
}